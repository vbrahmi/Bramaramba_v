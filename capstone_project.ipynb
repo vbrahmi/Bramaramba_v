{
  "nbformat": 4,
  "nbformat_minor": 0,
  "metadata": {
    "colab": {
      "provenance": [],
      "include_colab_link": true
    },
    "kernelspec": {
      "name": "python3",
      "display_name": "Python 3"
    },
    "language_info": {
      "name": "python"
    }
  },
  "cells": [
    {
      "cell_type": "markdown",
      "metadata": {
        "id": "view-in-github",
        "colab_type": "text"
      },
      "source": [
        "<a href=\"https://colab.research.google.com/github/vbrahmi/Bramaramba_v/blob/main/capstone_project.ipynb\" target=\"_parent\"><img src=\"https://colab.research.google.com/assets/colab-badge.svg\" alt=\"Open In Colab\"/></a>"
      ]
    },
    {
      "cell_type": "code",
      "source": [
        "# AGENDA:\n",
        "# CAPSTONE PROJECT: pdf, extract the content, text - translate the content and give it back to user\n",
        "# DEPLOY THE CAPTSTONE PROJECT ON AWS\n",
        "\n",
        "import os\n",
        "import streamlit as st\n",
        "from langchain.document_loaders import PyPDFLoader\n",
        "from langchain_community.chat_models import ChatOpenAI\n",
        "from langchain.schema import AIMessage, SystemMessage, HumanMessage\n",
        "os.environ['OPENAI_API_KEY'] = ''\n",
        "import pandas as pd\n",
        "from gtts import gTTS\n",
        "\n",
        "\n",
        "# title in the web app developed using streamlit\n",
        "st.title('Translation App')\n",
        "# allow users to upload a file\n",
        "uploaded_file = st.file_uploader(\"Choose a file\", type=['pdf','docx','csv'])\n",
        "print('uploaded_file', uploaded_file)\n",
        "if uploaded_file is not None: # if uploaded file is present\n",
        "    file_path = f\"/tmp/{uploaded_file.name}\" # creating a file in tmp location\n",
        "    with open(file_path, \"wb\") as f:\n",
        "        f.write(uploaded_file.getbuffer()) # writing the uploaded file to temp location\n",
        "    file_extension = os.path.splittext(file_path)[1].lower()\n",
        "    if file_extension== \".pdf\":\n",
        "        loader = PyPDFLoader(file_path) # load the pdf file\n",
        "        docs = loader.load_and_split() # split them by pages\n",
        "        #st.write(docs) # displaying the pages in website\n",
        "        # print(docs[0].page_content)\n",
        "        combined_content = \"\\n\".join([doc.page_content for doc in docs])\n",
        "    if file_extension== \".csv\":\n",
        "        df = pd.read_csv(file_path)\n",
        "        combined_content = df['content'].values()\n",
        "    translation_prompt = [\n",
        "    SystemMessage(content=\"Translate the below given content to Spanish\"),\n",
        "    HumanMessage(content=combined_content)]\n",
        "    llm = ChatOpenAI(model_name='gpt-3.5-turbo',temperature=0.7)\n",
        "    output = llm(translation_prompt).content\n",
        "    # combined_output = \"/n\".join(output)\n",
        "    print(output)\n",
        "    # st.write(output)\n",
        "    tts = gTTS(output)\n",
        "    tts.save('hello.mp3')\n",
        "    with open(\"flower.png\", \"rb\") as file:\n",
        "      btn = st.download_button(\n",
        "              label=\"Download audio file\",\n",
        "              data=file,\n",
        "              file_name=\"hello.mp3\",\n",
        "            )\n"
      ],
      "metadata": {
        "id": "gHp3jA_fAFtu"
      },
      "execution_count": null,
      "outputs": []
    },
    {
      "cell_type": "code",
      "execution_count": null,
      "metadata": {
        "id": "oY3_z3IUFAEy"
      },
      "outputs": [],
      "source": [
        "$ streamlit run capstone_project.py"
      ]
    }
  ]
}